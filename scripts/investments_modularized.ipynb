{
 "cells": [
  {
   "cell_type": "code",
   "execution_count": 1,
   "id": "027dc9ee-7b98-452b-a44d-eb7ee94c5b4c",
   "metadata": {},
   "outputs": [],
   "source": [
    "import os\n",
    "import numpy as np\n",
    "import pandas as pd\n",
    "import yfinance as yf\n",
    "import statsmodels.api as sm\n",
    "\n",
    "# Data Download and Preprocessing Functions\n",
    "def download_data(stocks, market_index, start_date, end_date):\n",
    "    data = yf.download(stocks + [market_index], start=start_date, end=end_date, interval='1mo')['Adj Close']\n",
    "    return data\n",
    "\n",
    "def load_and_clean_factors(mom_file, ff_file):\n",
    "    mom_factors = pd.read_csv(mom_file, index_col=None)\n",
    "    mom_factors['Date'] = pd.to_datetime(mom_factors['Date'], format='%Y%m').dt.date\n",
    "\n",
    "    ff_factors = pd.read_csv(ff_file, index_col=None)\n",
    "    ff_factors['Date'] = pd.to_datetime(ff_factors['Date'], format='%Y%m').dt.date\n",
    "\n",
    "    factors_merged = pd.merge(ff_factors, mom_factors, on='Date', how='inner')\n",
    "    factors_merged['RF'] = ((factors_merged['RF'] / 100) / 12)\n",
    "    factors_merged['RF'] = np.log(factors_merged['RF'] + 1).dropna()\n",
    "    return factors_merged\n",
    "\n",
    "def calculate_log_returns(data):\n",
    "    data.index = pd.to_datetime(data.index).date\n",
    "    log_returns = np.log(data / data.shift(1)).dropna()\n",
    "    return log_returns\n",
    "\n",
    "def merge_data(log_returns, factors_merged):\n",
    "    log_returns['Date'] = log_returns.index\n",
    "    combined_data = pd.merge(log_returns, factors_merged, on='Date', how='inner')\n",
    "    combined_data.set_index('Date', inplace=True)\n",
    "    return combined_data\n",
    "\n",
    "def calculate_risk_premiums(combined_data, stocks):\n",
    "    stock_risk_premium_data = {}\n",
    "    for stock in stocks:\n",
    "        stock_risk_premium = combined_data[stock] - combined_data['RF']\n",
    "        stock_risk_premium_data[stock] = stock_risk_premium\n",
    "\n",
    "    stock_risk_premium_df = pd.DataFrame(stock_risk_premium_data)\n",
    "    market_risk_premium = combined_data['SPY'] - combined_data['RF']\n",
    "    return stock_risk_premium_df, market_risk_premium\n",
    "\n",
    "def get_yahoo_betas(stocks):\n",
    "    comparison = {}\n",
    "    for stock in stocks:\n",
    "        comparison[stock] = yf.Ticker(stock).info.get('beta', None)\n",
    "    return comparison\n",
    "\n",
    "def capm_analysis(stock_risk_premium_df, market_risk_premium, stocks):\n",
    "    results = []\n",
    "    for stock in stocks:\n",
    "        stock_risk_premium = stock_risk_premium_df[stock]\n",
    "        X = sm.add_constant(market_risk_premium)\n",
    "        model = sm.OLS(stock_risk_premium, X).fit()\n",
    "        alpha, beta = model.params\n",
    "        alpha_pval = model.pvalues['const']\n",
    "        results.append({'Stock': stock, 'Alpha': alpha, 'Beta': beta, 'Alpha p-value': alpha_pval})\n",
    "\n",
    "    yahoo_betas = get_yahoo_betas(stocks)\n",
    "    capm_results = pd.DataFrame(results)\n",
    "    capm_results['Yahoo Beta'] = capm_results['Stock'].map(yahoo_betas)\n",
    "    return capm_results\n",
    "\n",
    "def fama_french_analysis(stock_risk_premium_df, combined_data, market_risk_premium, stocks):\n",
    "    results_ff = []\n",
    "    for stock in stocks:\n",
    "        stock_risk_premium = stock_risk_premium_df[stock]\n",
    "        X = sm.add_constant(pd.concat([market_risk_premium, combined_data[['SMB', 'HML', 'Mom']]], axis=1))\n",
    "        model = sm.OLS(stock_risk_premium, X).fit()\n",
    "        alpha = model.params['const']\n",
    "        beta_mkt, beta_smb, beta_hml, beta_mom = model.params[1:]\n",
    "        alpha_pval = model.pvalues['const']\n",
    "        residual_ss = model.ssr\n",
    "        residual_df = model.df_resid\n",
    "        residual_var = residual_ss / residual_df\n",
    "        results_ff.append({\n",
    "            'Stock': stock, 'Alpha': alpha, 'Beta MKT': beta_mkt, 'Beta SMB': beta_smb,\n",
    "            'Beta HML': beta_hml, 'Beta MOM': beta_mom, 'Alpha p-value': alpha_pval,\n",
    "            'SSR': residual_ss, 'DF Residual': residual_df, 'Residual Variance': residual_var\n",
    "        })\n",
    "\n",
    "    yahoo_betas = get_yahoo_betas(stocks)\n",
    "    ff_results = pd.DataFrame(results_ff)\n",
    "    ff_results['Yahoo Beta'] = ff_results['Stock'].map(yahoo_betas)\n",
    "    return ff_results\n",
    "\n",
    "def compute_tangent_portfolio_weights(diff_returns_rf, cov_matrix):\n",
    "    \"\"\"\n",
    "    Computes the tangent portfolio weights.\n",
    "\n",
    "    Parameters:\n",
    "    - diff_returns_rf: Excess returns over the risk-free rate\n",
    "    - cov_matrix: Variance-covariance matrix of stock returns\n",
    "\n",
    "    Returns:\n",
    "    - Tangent portfolio weights as a numpy array\n",
    "    \"\"\"\n",
    "    excess_returns = diff_returns_rf.to_numpy()\n",
    "    cov_matrix_inv = np.linalg.inv(cov_matrix)\n",
    "    tangent_numerator = np.dot(cov_matrix_inv, excess_returns)\n",
    "    tangent_denominator = np.dot(np.ones(len(excess_returns)), tangent_numerator)\n",
    "    tangent_weights = tangent_numerator / tangent_denominator\n",
    "    return tangent_weights\n",
    "\n",
    "def compute_sharpe_ratio_tangent_portfolio(tangent_weights, diff_returns_rf, cov_matrix):\n",
    "    \"\"\"\n",
    "    Computes the Sharpe ratio of the tangent portfolio.\n",
    "\n",
    "    Parameters:\n",
    "    - tangent_weights: Weights of the tangent portfolio\n",
    "    - diff_returns_rf: Excess returns over the risk-free rate\n",
    "    - cov_matrix: Variance-covariance matrix of stock returns\n",
    "\n",
    "    Returns:\n",
    "    - Sharpe ratio of the tangent portfolio\n",
    "    \"\"\"\n",
    "    tangent_port_risk_premium = np.sum(tangent_weights * diff_returns_rf)\n",
    "    portfolio_variance = np.dot(tangent_weights.T, np.dot(cov_matrix, tangent_weights))\n",
    "    portfolio_std_dev = np.sqrt(portfolio_variance)\n",
    "    sharpe_ratio_tangent_port = tangent_port_risk_premium / portfolio_std_dev\n",
    "    return sharpe_ratio_tangent_port\n",
    "\n",
    "def compute_sharpe_ratio_sim(ff_results, market_risk_premium, combined_data):\n",
    "    \"\"\"\n",
    "    Computes the Sharpe ratio of the SIM portfolio.\n",
    "\n",
    "    Parameters:\n",
    "    - ff_results: Results from the Fama-French analysis\n",
    "    - market_risk_premium: Market risk premium series\n",
    "    - combined_data: Combined dataset including returns and factors\n",
    "\n",
    "    Returns:\n",
    "    - Sharpe ratio of the SIM portfolio\n",
    "    \"\"\"\n",
    "    initial_position = ff_results['Alpha'] / ff_results['Residual Variance']\n",
    "    scaled_initial_position = initial_position / initial_position.sum()\n",
    "    weighted_avg_alpha = np.average(ff_results['Alpha'], weights=scaled_initial_position)\n",
    "    weighted_residual_variance = np.average(ff_results['Residual Variance'], weights=scaled_initial_position**2)\n",
    "\n",
    "    sharpe_ratio_market = np.mean(market_risk_premium) / np.std(combined_data['SPY'])\n",
    "    information_ratio_squared = (weighted_avg_alpha ** 2) / weighted_residual_variance\n",
    "    sharpe_ratio_sim = np.sqrt(sharpe_ratio_market ** 2 + information_ratio_squared)\n",
    "    return sharpe_ratio_sim\n",
    "\n",
    "\n",
    "def compute_adjusted_tangent_weights(initial_margin, tanget_stocks, diff_returns_rf, cov_matrix, investment_amount):\n",
    "    \"\"\"\n",
    "    Adjust tangent weights for the given initial margin and investment amount.\n",
    "    \"\"\"\n",
    "    inverse_initial_margin = np.where(initial_margin != 0, 1 / initial_margin, 0)\n",
    "    identity_matrix = np.eye(len(tanget_stocks))\n",
    "\n",
    "    tanget_stocks = pd.Series(tanget_stocks)\n",
    "    inverse_initial_margin = pd.Series(inverse_initial_margin.flatten())\n",
    "    one_over_k_sign = inverse_initial_margin * np.sign(tanget_stocks)\n",
    "\n",
    "    one_over_k_sign = one_over_k_sign.to_numpy()\n",
    "    A_1 = identity_matrix * one_over_k_sign\n",
    "    A_1[A_1 == -0.0] = 0.0\n",
    "    tanget_stocks = -tanget_stocks.to_numpy().reshape(-1, 1)\n",
    "\n",
    "    A = np.hstack((A_1, tanget_stocks))\n",
    "    new_row = np.append(np.ones(10), [0])\n",
    "    A = np.vstack((A, new_row))\n",
    "    c = np.zeros((len(tanget_stocks) + 1, 1))\n",
    "    c[-1, 0] = investment_amount\n",
    "\n",
    "    Z = np.matmul(np.linalg.inv(A), c)\n",
    "    stock_value = (Z[:len(tanget_stocks)] / initial_margin) * np.sign(-tanget_stocks)\n",
    "\n",
    "    tangent_weights = stock_value / np.sum(stock_value)\n",
    "    return tangent_weights.flatten()"
   ]
  },
  {
   "cell_type": "code",
   "execution_count": 2,
   "id": "dac4a46c-6dc4-4b82-ad60-e7d118fbce91",
   "metadata": {},
   "outputs": [
    {
     "name": "stderr",
     "output_type": "stream",
     "text": [
      "[*********************100%***********************]  11 of 11 completed\n"
     ]
    }
   ],
   "source": [
    "# Main Execution\n",
    "stocks = sorted(['AAPL', 'BRK-B', 'COST', 'FIX', 'JNJ', 'JPM', 'LMT', 'NVDA', 'TSLA', 'XOM'])\n",
    "market_index = 'SPY'\n",
    "start_date = '2019-09-01'\n",
    "end_date = '2024-10-01'\n",
    "\n",
    "data = download_data(stocks, market_index, start_date, end_date)\n",
    "factors_merged = load_and_clean_factors('F-F_Momentum_Factor.CSV', 'F-F_Research_Data_5_Factors_2x3.CSV')\n",
    "log_returns = calculate_log_returns(data)\n",
    "log_returns_stock = log_returns.drop(columns=['SPY'])\n",
    "combined_data = merge_data(log_returns, factors_merged)\n",
    "stock_risk_premium_df, market_risk_premium = calculate_risk_premiums(combined_data, stocks)\n",
    "\n",
    "capm_results = capm_analysis(stock_risk_premium_df, market_risk_premium, stocks)\n",
    "ff_results = fama_french_analysis(stock_risk_premium_df, combined_data, market_risk_premium, stocks)\n",
    "\n",
    "# SIM Portfolio Sharpe Ratio\n",
    "sharpe_ratio_sim = compute_sharpe_ratio_sim(ff_results, market_risk_premium, combined_data)\n",
    "\n",
    "# Tangent Portfolio\n",
    "diff_returns_rf = (combined_data[stocks].mean() - combined_data['RF'].mean())\n",
    "cov_matrix = log_returns_stock.cov().to_numpy()\n",
    "tanget_stocks = compute_tangent_portfolio_weights(diff_returns_rf, cov_matrix)\n",
    "sharpe_ratio_tangent = compute_sharpe_ratio_tangent_portfolio(tanget_stocks, diff_returns_rf.to_numpy(), cov_matrix)\n",
    "\n",
    "# Investor wants to allocate $10,000 across stocks\n",
    "# initial margin=50% for all assets\n",
    "initial_margin = np.full((len(tanget_stocks), 1), 0.5)\n",
    "tangent_weights = compute_adjusted_tangent_weights(initial_margin, tanget_stocks, diff_returns_rf, cov_matrix, 10000)\n",
    "sharpe_ratio_tangent_1 = compute_sharpe_ratio_tangent_portfolio(tangent_weights, diff_returns_rf.to_numpy(), cov_matrix)\n",
    "\n",
    "# Investor does not get a margin loan for long positions, but does need to get one for shorting (set it at 50%)\n",
    "# Recompute the SR\n",
    "initial_margin = np.where(tanget_stocks < 0, 0.5, 1).reshape(-1, 1)\n",
    "tangent_weights = compute_adjusted_tangent_weights(initial_margin, tanget_stocks, diff_returns_rf, cov_matrix, 10000)\n",
    "sharpe_ratio_tangent_2 = compute_sharpe_ratio_tangent_portfolio(tangent_weights, diff_returns_rf.to_numpy(), cov_matrix)\n",
    "\n",
    "#  Investor sets the initial margin at 75% for any position, even though the requirement is only 50%. \n",
    "initial_margin = np.full((10, 1), 0.75)\n",
    "tangent_weights = compute_adjusted_tangent_weights(initial_margin, tanget_stocks, diff_returns_rf, cov_matrix, 10000)\n",
    "sharpe_ratio_tangent_3 = compute_sharpe_ratio_tangent_portfolio(tangent_weights, diff_returns_rf.to_numpy(), cov_matrix)"
   ]
  },
  {
   "cell_type": "code",
   "execution_count": 3,
   "id": "88ec5d4a-ad63-4acd-9229-39328eb0cda8",
   "metadata": {},
   "outputs": [
    {
     "name": "stdout",
     "output_type": "stream",
     "text": [
      "CAPM Results:\n",
      "    Stock     Alpha      Beta  Alpha p-value  Yahoo Beta\n",
      "0   AAPL  0.009998  1.194633       0.164158       1.240\n",
      "1  BRK-B  0.002404  0.858080       0.627024       0.871\n",
      "2   COST  0.010316  0.761937       0.123997       0.789\n",
      "3    FIX  0.023830  1.066397       0.030239       1.130\n",
      "4    JNJ -0.000875  0.480121       0.880213       0.518\n",
      "5    JPM -0.001350  1.116841       0.849944       1.091\n",
      "6    LMT  0.002275  0.448992       0.777999       0.481\n",
      "7   NVDA  0.036599  1.643940       0.014415       1.657\n",
      "8   TSLA  0.023145  2.069860       0.305774       2.295\n",
      "9    XOM  0.001576  0.872148       0.888763       0.880\n"
     ]
    }
   ],
   "source": [
    "# Display Results\n",
    "print(\"CAPM Results:\\n\", capm_results)"
   ]
  },
  {
   "cell_type": "code",
   "execution_count": 4,
   "id": "3da439b9-029f-4157-bc9e-8f01936990b9",
   "metadata": {},
   "outputs": [
    {
     "name": "stdout",
     "output_type": "stream",
     "text": [
      "Fama-French Results:\n",
      "    Stock     Alpha  Beta MKT  Beta SMB  Beta HML      Beta MOM  Alpha p-value  \\\n",
      "0   AAPL  0.009608  1.225489  0.000162 -0.005288  1.455348e-04       0.145391   \n",
      "1  BRK-B  0.001264  0.926084 -0.003263  0.004050  1.273654e-03       0.773416   \n",
      "2   COST  0.009776  0.789633 -0.001832 -0.004333 -7.014866e-04       0.113690   \n",
      "3    FIX  0.022317  1.220920  0.004027  0.001584  6.841886e-03       0.038889   \n",
      "4    JNJ -0.001957  0.569617  0.000176  0.001835  3.132780e-03       0.731809   \n",
      "5    JPM -0.000119  1.061681  0.005349  0.006262  1.778981e-03       0.981896   \n",
      "6    LMT  0.001381  0.502465 -0.002669  0.005845  1.395131e-03       0.854872   \n",
      "7   NVDA  0.035367  1.728680 -0.001327 -0.012059  8.573501e-07       0.007266   \n",
      "8   TSLA  0.026976  1.876632  0.015636 -0.017640 -1.736804e-03       0.190960   \n",
      "9    XOM  0.003010  0.760188 -0.000019  0.011159 -1.599063e-03       0.737818   \n",
      "\n",
      "        SSR  DF Residual  Residual Variance  Yahoo Beta  \n",
      "0  0.132797         55.0           0.002414       1.240  \n",
      "1  0.059846         55.0           0.001088       0.871  \n",
      "2  0.116054         55.0           0.002110       0.789  \n",
      "3  0.349052         55.0           0.006346       1.130  \n",
      "4  0.101282         55.0           0.001841       0.518  \n",
      "5  0.084862         55.0           0.001543       1.091  \n",
      "6  0.177104         55.0           0.003220       0.481  \n",
      "7  0.504885         55.0           0.009180       1.657  \n",
      "8  1.302503         55.0           0.023682       2.295  \n",
      "9  0.251147         55.0           0.004566       0.880  \n"
     ]
    }
   ],
   "source": [
    "print(\"Fama-French Results:\\n\", ff_results)"
   ]
  },
  {
   "cell_type": "code",
   "execution_count": 5,
   "id": "158bf37b-ce5d-4dd3-bd0e-fe2b6ed2f8bd",
   "metadata": {},
   "outputs": [
    {
     "name": "stdout",
     "output_type": "stream",
     "text": [
      "Sharpe Ratio of SIM Portfolio: 0.3290651191630374\n"
     ]
    }
   ],
   "source": [
    "print(\"Sharpe Ratio of SIM Portfolio:\", sharpe_ratio_sim)"
   ]
  },
  {
   "cell_type": "code",
   "execution_count": 6,
   "id": "e7db785c-d333-47fa-92f9-cbd68073b2ee",
   "metadata": {},
   "outputs": [
    {
     "name": "stdout",
     "output_type": "stream",
     "text": [
      "Tangent Portfolio Weights:\n",
      " [-0.19280682 -0.69631946  0.27484156  0.46438779  0.46044579 -0.4137363\n",
      "  0.27341325  0.46168733  0.04404908  0.32403777]\n"
     ]
    }
   ],
   "source": [
    "print(\"Tangent Portfolio Weights:\\n\", tangent_weights)"
   ]
  },
  {
   "cell_type": "code",
   "execution_count": 7,
   "id": "fbd619c2-10fa-43bc-a465-5705eee5e5f5",
   "metadata": {},
   "outputs": [
    {
     "name": "stdout",
     "output_type": "stream",
     "text": [
      "Sharpe Ratio of Tangent Portfolio: 0.5025648260058019\n"
     ]
    }
   ],
   "source": [
    "print(\"Sharpe Ratio of Tangent Portfolio:\", sharpe_ratio_tangent)"
   ]
  },
  {
   "cell_type": "code",
   "execution_count": 8,
   "id": "5f007fa4-c756-41a4-a4d0-2b8cc2317149",
   "metadata": {},
   "outputs": [
    {
     "name": "stdout",
     "output_type": "stream",
     "text": [
      "Sharpe Ratio of Tangent Portfolio 1: 0.5025648260058019\n"
     ]
    }
   ],
   "source": [
    "print(\"Sharpe Ratio of Tangent Portfolio 1:\", sharpe_ratio_tangent_1)"
   ]
  },
  {
   "cell_type": "code",
   "execution_count": 9,
   "id": "3e53cbb2-17cc-4e82-85c0-0284023e095f",
   "metadata": {},
   "outputs": [
    {
     "name": "stdout",
     "output_type": "stream",
     "text": [
      "Sharpe Ratio of Tangent Portfolio 2: 0.5025648260058019\n"
     ]
    }
   ],
   "source": [
    "print(\"Sharpe Ratio of Tangent Portfolio 2:\", sharpe_ratio_tangent_2)"
   ]
  },
  {
   "cell_type": "code",
   "execution_count": 10,
   "id": "3db27cef-4a25-4e8b-85dc-9ca56431d2d3",
   "metadata": {},
   "outputs": [
    {
     "name": "stdout",
     "output_type": "stream",
     "text": [
      "Sharpe Ratio of Tangent Portfolio 3: 0.502564826005802\n"
     ]
    }
   ],
   "source": [
    "print(\"Sharpe Ratio of Tangent Portfolio 3:\", sharpe_ratio_tangent_3)"
   ]
  }
 ],
 "metadata": {
  "kernelspec": {
   "display_name": "Python 3 (ipykernel)",
   "language": "python",
   "name": "python3"
  },
  "language_info": {
   "codemirror_mode": {
    "name": "ipython",
    "version": 3
   },
   "file_extension": ".py",
   "mimetype": "text/x-python",
   "name": "python",
   "nbconvert_exporter": "python",
   "pygments_lexer": "ipython3",
   "version": "3.11.7"
  }
 },
 "nbformat": 4,
 "nbformat_minor": 5
}
